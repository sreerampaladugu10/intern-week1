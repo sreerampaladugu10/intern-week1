{
 "cells": [
  {
   "cell_type": "markdown",
   "id": "8a5e4779",
   "metadata": {},
   "source": [
    "# week1: DSA "
   ]
  },
  {
   "cell_type": "raw",
   "id": "89eaec5a",
   "metadata": {},
   "source": [
    "sreeram paladugu"
   ]
  },
  {
   "cell_type": "raw",
   "id": "6fabe7ab",
   "metadata": {},
   "source": [
    "Chalanges Faced:\n",
    "The vast scope of the given DSA topics, coupled with the tight deadline, presented significant challenges. The sheer volume of topics made it difficult to maintain a consistent pace and fully grasp every concept. Additionally, my unfamiliarity of certain topics, such as the Fractional Knapsack Problem, Dijkstra's Algorithm, and Bellman-Ford Algorithm, required extra time for understanding and implementation. While I attempted to practice LeetCode problems as much as possible, the time constraints often limited my ability to dedicate sufficient time to coding exercises. To aid in learning and retention, "
   ]
  },
  {
   "cell_type": "raw",
   "id": "dab80a1e",
   "metadata": {},
   "source": [
    "I documented my learnings and thought process using comments within my code."
   ]
  },
  {
   "cell_type": "markdown",
   "id": "889a3c0b",
   "metadata": {},
   "source": [
    "# arrays"
   ]
  },
  {
   "cell_type": "code",
   "execution_count": 1,
   "id": "d38f74cc",
   "metadata": {},
   "outputs": [
    {
     "name": "stdout",
     "output_type": "stream",
     "text": [
      "[2, 3, 4, 5]\n"
     ]
    }
   ],
   "source": [
    "# declaring a array\n",
    "num = [2,3,4,5]\n",
    "print(num)"
   ]
  },
  {
   "cell_type": "code",
   "execution_count": 2,
   "id": "dfaafa17",
   "metadata": {},
   "outputs": [
    {
     "name": "stdout",
     "output_type": "stream",
     "text": [
      "[2, 3, 4, 5, 6]\n",
      "[1, 2, 3, 4, 5, 6]\n",
      "[1, 2, 3, 4, 6]\n",
      "[1, 3, 4, 6]\n",
      "[1, 3, 4]\n",
      "1\n",
      "3\n",
      "4\n"
     ]
    }
   ],
   "source": [
    "# insertion\n",
    "\n",
    "num.append(6) #inserts into the array\n",
    "print(num)\n",
    "\n",
    "num.insert(0,1)  # inserts 1 at the 0 index\n",
    "print(num)\n",
    "\n",
    "#deletion in an array\n",
    "\n",
    "num.remove(5) #removes the number 5\n",
    "print(num)\n",
    "\n",
    "del num[1]\n",
    "print(num) #removes the number first index\n",
    "\n",
    "num.pop(3)\n",
    "print(num) # removes the  number in 3rd index\n",
    "\n",
    "#traversing an array\n",
    "for n in num:\n",
    "    print(n)\n"
   ]
  },
  {
   "cell_type": "markdown",
   "id": "9a27a7cf",
   "metadata": {},
   "source": [
    "# practice problems arrays"
   ]
  },
  {
   "cell_type": "code",
   "execution_count": 3,
   "id": "c1c97a93",
   "metadata": {},
   "outputs": [
    {
     "name": "stdout",
     "output_type": "stream",
     "text": [
      "2\n",
      "5\n",
      "17\n",
      "array is empty\n"
     ]
    }
   ],
   "source": [
    "\"\"\"leader in array \n",
    "Write a program to print all the Leaders in the array. \n",
    "An element is a Leader if it is greater than all the elements to its right side.\n",
    "Note: The rightmost element is always a leader.\"\"\"\n",
    "\n",
    "arr=[16, 17, 4, 3, 5, 2]\n",
    "a=[]\n",
    "\n",
    "def findleader(array):\n",
    "    l=len(array)\n",
    "    \n",
    "    if l==0:\n",
    "        print(\"array is empty\")\n",
    "        return\n",
    "    \n",
    "    leader = array[-1]\n",
    "    print(leader)\n",
    "    \n",
    "    for i in range(l-2, 0, -1):\n",
    "        if array[i] > leader:\n",
    "            leader=array[i]\n",
    "            print(leader)\n",
    "          \n",
    "#test cases    \n",
    "findleader(arr)\n",
    "findleader(a)\n"
   ]
  },
  {
   "cell_type": "code",
   "execution_count": 4,
   "id": "6e097059",
   "metadata": {},
   "outputs": [
    {
     "name": "stdout",
     "output_type": "stream",
     "text": [
      "[0, 0, 1, 2, 2]\n"
     ]
    }
   ],
   "source": [
    "#sort an array of 0s,1s and 2s\n",
    "sort=[0,2,1,2,0]\n",
    "\n",
    "def bubble(array):\n",
    "    n=len(array)\n",
    "    \n",
    "    for i in range(n-1):\n",
    "        swapped = False\n",
    "        for j in range(n-1-i):\n",
    "            if array[j] > array[j+1]:\n",
    "                array[j], array[j+1] = array[j+1], array[j]\n",
    "                swapped =True\n",
    "        if not swapped:\n",
    "            break\n",
    "    print(array)           \n",
    "\n",
    "bubble(sort)    \n",
    "\n",
    "\n"
   ]
  },
  {
   "cell_type": "markdown",
   "id": "75ec9c68",
   "metadata": {},
   "source": [
    "# linked lists"
   ]
  },
  {
   "cell_type": "code",
   "execution_count": 5,
   "id": "f6a95be4",
   "metadata": {},
   "outputs": [],
   "source": [
    "# Node class to represent an element in a linked list\n",
    "class Node:\n",
    "    def __init__(self, data):\n",
    "        self.data = data  # Stores the data (value)\n",
    "        self.next = None  # Points to the next node in the list\n"
   ]
  },
  {
   "cell_type": "code",
   "execution_count": 6,
   "id": "c1149927",
   "metadata": {},
   "outputs": [
    {
     "name": "stdout",
     "output_type": "stream",
     "text": [
      "Linked List after insertions:\n",
      "5 -> 10 -> 20 -> 30 -> None\n",
      "Linked List after deletion of 20:\n",
      "5 -> 10 -> 30 -> None\n",
      "Node with value 40 not found.\n"
     ]
    }
   ],
   "source": [
    "# Linked List class to manage the nodes\n",
    "class LinkedList:\n",
    "    def __init__(self):\n",
    "        self.head = None  # Initialize the linked list with an empty head (no nodes yet)\n",
    "    \n",
    "    # Insert at the end of the linked list\n",
    "    def insert(self, data):\n",
    "        new_node = Node(data)  # Create a new node\n",
    "        if not self.head:\n",
    "            self.head = new_node  # If the list is empty, make the new node the head\n",
    "        else:\n",
    "            current = self.head\n",
    "            while current.next:  # Traverse to the last node\n",
    "                current = current.next\n",
    "            current.next = new_node  # Append the new node at the end\n",
    "\n",
    "    # Insert at the beginning of the linked list\n",
    "    def insert_at_beginning(self, data):\n",
    "        new_node = Node(data)\n",
    "        new_node.next = self.head  # Point the new node's next to the current head\n",
    "        self.head = new_node  # Make the new node the new head\n",
    "\n",
    "    # Delete a node with a given key (value)\n",
    "    def delete(self, key):\n",
    "        current = self.head\n",
    "        previous = None\n",
    "\n",
    "        # If the head node itself holds the key to be deleted\n",
    "        if current is not None:\n",
    "            if current.data == key:\n",
    "                self.head = current.next  # Change head to next node\n",
    "                current = None  # Free memory (Python automatically handles memory)\n",
    "                return\n",
    "\n",
    "        # Search for the key to be deleted and keep track of the previous node\n",
    "        while current is not None:\n",
    "            if current.data == key:\n",
    "                break\n",
    "            previous = current\n",
    "            current = current.next\n",
    "\n",
    "        # If the key was not present in the list\n",
    "        if current is None:\n",
    "            print(f\"Node with value {key} not found.\")\n",
    "            return\n",
    "\n",
    "        # Unlink the node from the linked list\n",
    "        previous.next = current.next\n",
    "        current = None  # Free the node\n",
    "\n",
    "    # Traverse the linked list and print each node's data\n",
    "    def traverse(self):\n",
    "        current = self.head\n",
    "        if current is None:\n",
    "            print(\"The list is empty.\")\n",
    "        else:\n",
    "            while current:\n",
    "                print(current.data, end=\" -> \")\n",
    "                current = current.next\n",
    "            print(\"None\")\n",
    "\n",
    "# Example Usage:\n",
    "# Create a new linked list\n",
    "ll = LinkedList()\n",
    "\n",
    "# Insert elements\n",
    "ll.insert(10)\n",
    "ll.insert(20)\n",
    "ll.insert(30)\n",
    "\n",
    "# Insert at the beginning\n",
    "ll.insert_at_beginning(5)\n",
    "\n",
    "# Traverse and print the linked list\n",
    "print(\"Linked List after insertions:\")\n",
    "ll.traverse()\n",
    "\n",
    "# Delete an element\n",
    "ll.delete(20)\n",
    "\n",
    "# Traverse after deletion\n",
    "print(\"Linked List after deletion of 20:\")\n",
    "ll.traverse()\n",
    "\n",
    "# Try to delete a non-existing element\n",
    "ll.delete(40)\n"
   ]
  },
  {
   "cell_type": "markdown",
   "id": "a352f4fd",
   "metadata": {},
   "source": [
    "# STACKS"
   ]
  },
  {
   "cell_type": "raw",
   "id": "05c4b248",
   "metadata": {},
   "source": [
    "Stack (LIFO): The last item added is the first one to be removed. \n",
    "Think of a stack of plates: you add new plates to the top and take plates from the top.\n"
   ]
  },
  {
   "cell_type": "code",
   "execution_count": 7,
   "id": "04592b10",
   "metadata": {},
   "outputs": [
    {
     "name": "stdout",
     "output_type": "stream",
     "text": [
      "[1, 2, 3, 4, 5, 4]\n",
      "[1, 2, 3, 4, 5]\n",
      "5\n"
     ]
    }
   ],
   "source": [
    "#stack operations using lists \n",
    "\n",
    "stack = [1,2,3,4] # declaration\n",
    "\n",
    "stack.append(5) # appending to stack\n",
    "stack.append(4)\n",
    "print(stack)\n",
    "\n",
    "stack.pop()    # removes the last element\n",
    "print(stack)\n",
    "\n",
    "peek = stack[-1] # to acess the last element \n",
    "print(peek)\n"
   ]
  },
  {
   "cell_type": "code",
   "execution_count": 8,
   "id": "281a91d2",
   "metadata": {},
   "outputs": [
    {
     "name": "stdout",
     "output_type": "stream",
     "text": [
      "deque([1, 2, 3, 4])\n",
      "deque([1, 2, 3])\n",
      "3\n",
      "3\n"
     ]
    }
   ],
   "source": [
    "# stack using colections \n",
    "from collections import deque\n",
    "\n",
    "stack1 = deque()\n",
    "stack1.append(1)\n",
    "stack1.append(2)\n",
    "stack1.append(3)\n",
    "stack1.append(4)\n",
    "\n",
    "print(stack1)\n",
    "\n",
    "stack1.pop()  # pops last element in stack\n",
    "print(stack1)\n",
    "\n",
    "print(stack1[-1]) # prints last element in stack\n",
    "\n",
    "print(len(stack1)) # prints length of stack "
   ]
  },
  {
   "cell_type": "markdown",
   "id": "dcbaa4cd",
   "metadata": {},
   "source": [
    "# Queues"
   ]
  },
  {
   "cell_type": "raw",
   "id": "f30b04af",
   "metadata": {},
   "source": [
    "Queues (FIFO): The First item added is the first one to be removed. \n",
    "Think of a Queues as a line: First in line is the first to leave"
   ]
  },
  {
   "cell_type": "code",
   "execution_count": 9,
   "id": "3962f6ea",
   "metadata": {},
   "outputs": [
    {
     "name": "stdout",
     "output_type": "stream",
     "text": [
      "deque([1, 2, 3, 4])\n",
      "deque([2, 3, 4])\n",
      "2\n"
     ]
    }
   ],
   "source": [
    "#stack operations \n",
    "from collections import deque\n",
    "\n",
    "queue = deque()\n",
    "# pushing into queue\n",
    "queue.append(1)\n",
    "queue.append(2)\n",
    "queue.append(3)\n",
    "queue.append(4) \n",
    "\n",
    "print(queue)\n",
    "\n",
    "#poping in queues\n",
    "queue.popleft()  # unlike stacks we have to pop the first element in queues\n",
    "print(queue)\n",
    "\n",
    "peek=queue[0]  # peeking the first element in queue\n",
    "print(peek)"
   ]
  },
  {
   "cell_type": "markdown",
   "id": "20c6a54c",
   "metadata": {},
   "source": [
    "# hashsets and hashmaps"
   ]
  },
  {
   "cell_type": "raw",
   "id": "d2306abd",
   "metadata": {},
   "source": [
    "hashsets uses the set datastructure in python to store unique values,\n",
    "and also have O(1) time complexity for operations like insertion, deletion, and lookup."
   ]
  },
  {
   "cell_type": "code",
   "execution_count": 10,
   "id": "380f4c24",
   "metadata": {},
   "outputs": [
    {
     "name": "stdout",
     "output_type": "stream",
     "text": [
      "{1, 2, 3, 4, 5}\n",
      "{1, 3, 4, 5}\n",
      "True\n",
      "1\n",
      "3\n",
      "4\n",
      "5\n"
     ]
    }
   ],
   "source": [
    "# declaring a hash set\n",
    "hashset = {1,2,3,4}\n",
    "\n",
    "hashset.add(5) #adding to a set\n",
    "print(hashset)\n",
    "\n",
    "hashset.discard(2) #delting from a set\n",
    "print(hashset)\n",
    "\n",
    "print(3 in hashset) # to check if an item is preset in hashset\n",
    "\n",
    "for items in hashset:  # using the dictionary items methord to print hashset\n",
    "    print(items)\n"
   ]
  },
  {
   "cell_type": "raw",
   "id": "babd0727",
   "metadata": {},
   "source": [
    "hashmaps are used to store unique key:value pairs using the dictionary datastructues in python they also have O(1) time complexity for operations like insertion, deletion, and lookup.\n",
    "\n",
    "Both types hashing to provide average-case constant time complexity for lookups, insertions, and deletions."
   ]
  },
  {
   "cell_type": "code",
   "execution_count": 11,
   "id": "8ebce43e",
   "metadata": {},
   "outputs": [
    {
     "name": "stdout",
     "output_type": "stream",
     "text": [
      "{'a': 1, 'b': 2, 'c': 3, 'd': 5}\n",
      "{'a': 1, 'b': 2, 'c': 3, 'd': 5, 'e': 6, 'g': 7}\n",
      "{'a': 1, 'b': 2, 'c': 3, 'd': 5, 'g': 7}\n",
      "{'a': 1, 'b': 2, 'c': 3, 'd': 5}\n",
      "True\n",
      "a 1\n",
      "b 2\n",
      "c 3\n",
      "d 5\n"
     ]
    }
   ],
   "source": [
    "hashmap = {\n",
    "    'a': 1,\n",
    "    'b' : 2,\n",
    "    'c' : 3}\n",
    "\n",
    "hashmap['d'] = 5  # to inset a single element\n",
    "print(hashmap)\n",
    "\n",
    "hashmap.update({'e' : 6, 'g' : 7}) # to inset multiple elements\n",
    "print(hashmap)\n",
    "\n",
    "hashmap.pop(\"e\") #to delete a paticular key\n",
    "print(hashmap)\n",
    "\n",
    "hashmap.popitem() # to delete the last added key\n",
    "print(hashmap)\n",
    "\n",
    "print('c' in hashmap) # to check if an item exists in the hashmap output is true\n",
    "\n",
    "for key,value in hashmap.items():\n",
    "    print(key,value)"
   ]
  },
  {
   "cell_type": "markdown",
   "id": "476cb907",
   "metadata": {},
   "source": [
    "# Leetcode practice"
   ]
  },
  {
   "cell_type": "code",
   "execution_count": 12,
   "id": "b3b6d08f",
   "metadata": {},
   "outputs": [],
   "source": [
    "# arrays "
   ]
  },
  {
   "cell_type": "raw",
   "id": "11333771",
   "metadata": {},
   "source": [
    "question 1 Sort Array By Parity\n",
    "Given an integer array nums, move all the even integers at the beginning of the array followed by all the odd integers.\n",
    "\n",
    "Return any array that satisfies this condition.\n",
    "\n",
    " \n",
    "\n",
    "Example 1:\n",
    "\n",
    "Input: nums = [3,1,2,4]\n",
    "Output: [2,4,3,1]\n",
    "Explanation: The outputs [4,2,3,1], [2,4,1,3], and [4,2,1,3] would also be accepted.\n",
    "Example 2:\n",
    "\n",
    "Input: nums = [0]\n",
    "Output: [0]"
   ]
  },
  {
   "cell_type": "code",
   "execution_count": 13,
   "id": "0ca2c2b6",
   "metadata": {},
   "outputs": [
    {
     "name": "stdout",
     "output_type": "stream",
     "text": [
      "[2, 4, 6, 3, 1, 5]\n"
     ]
    }
   ],
   "source": [
    "#solution\n",
    "def sortArrayByParity(nums):\n",
    "        \"\"\"\n",
    "        :type nums: List[int]\n",
    "        :rtype: List[int]\n",
    "        \"\"\"\n",
    "        \n",
    "        #use the % operater to check if a number is even or odd \n",
    "        # then sort the even numbers in array 1 and sort the odd numbers in array 2 \n",
    "        # combine the 2 arrays\n",
    "        \n",
    "        even = []\n",
    "        odd =[]\n",
    "        final =[]\n",
    "        for num in nums:\n",
    "            if num % 2 == 0:\n",
    "                even.append(num)\n",
    "            else:\n",
    "                odd.append(num)\n",
    "        final = even+ odd  \n",
    "        return final \n",
    "    \n",
    "array =[2,3,1,4,5,6]    \n",
    "result = sortArrayByParity(array)  \n",
    "print(result)"
   ]
  },
  {
   "cell_type": "raw",
   "id": "041d2eac",
   "metadata": {},
   "source": [
    "question 2 Minimum Common Value\n",
    "Given two integer arrays nums1 and nums2, sorted in non-decreasing order, return the minimum integer common to both arrays. If there is no common integer amongst nums1 and nums2, return -1.\n",
    "\n",
    "Note that an integer is said to be common to nums1 and nums2 if both arrays have at least one occurrence of that integer.\n",
    "\n",
    "Example 1:\n",
    "\n",
    "Input: nums1 = [1,2,3], nums2 = [2,4]\n",
    "Output: 2\n",
    "Explanation: The smallest element common to both arrays is 2, so we return 2.\n",
    "Example 2:\n",
    "\n",
    "Input: nums1 = [1,2,3,6], nums2 = [2,3,4,5]\n",
    "Output: 2\n",
    "Explanation: There are two common elements in the array 2 and 3 out of which 2 is the smallest, so 2 is returned."
   ]
  },
  {
   "cell_type": "code",
   "execution_count": 14,
   "id": "b029fa14",
   "metadata": {},
   "outputs": [
    {
     "name": "stdout",
     "output_type": "stream",
     "text": [
      "3\n"
     ]
    }
   ],
   "source": [
    "#solution\n",
    "def getCommon(nums1, nums2):\n",
    "        \"\"\"\n",
    "        :type nums1: List[int]\n",
    "        :type nums2: List[int]\n",
    "        :rtype: int\n",
    "        \"\"\"\n",
    "        # this could be solved using the pointer techqunie as the arrays are already sorted\n",
    "        # take the lengths of both arrays for our while loop\n",
    "        # compare the two arrays using a while loop if there is a match return and break the loop\n",
    "        # if they didnt match incriment the pointer whose value is the smallest as that number would not exist in thes second array \n",
    "        # (test case )if there is no common element return -1 \n",
    "       \n",
    "        l1 = len(nums1)\n",
    "        l2 = len(nums2)\n",
    "        i = 0\n",
    "        j = 0\n",
    "        x = 0\n",
    "        while i < l1 and j < l2:\n",
    "            if nums1[i] == nums2[j]:\n",
    "                x = nums1[i]\n",
    "                return x \n",
    "                break\n",
    "            elif nums1[i] < nums2[j]:\n",
    "                i = i+1\n",
    "            else:\n",
    "                i = i+1\n",
    "         \n",
    "        return -1 \n",
    "a=(1,2,3,4)   \n",
    "b=(3,4,5,6)\n",
    "print(getCommon(a,b))  "
   ]
  },
  {
   "cell_type": "raw",
   "id": "cf7bd2f4",
   "metadata": {},
   "source": [
    "#question 3\n",
    "Difference Between Element Sum and Digit Sum of an Array\n",
    "hint: You are given a positive integer array nums.\n",
    "\n",
    "The element sum is the sum of all the elements in nums.\n",
    "The digit sum is the sum of all the digits (not necessarily distinct) that appear in nums.\n",
    "Return the absolute difference between the element sum and digit sum of nums.\n",
    "\n",
    "Note that the absolute difference between two integers x and y is defined as |x - y|.\n",
    "Example 1:\n",
    "\n",
    "Input: nums = [1,15,6,3]\n",
    "Output: 9\n",
    "Explanation: \n",
    "The element sum of nums is 1 + 15 + 6 + 3 = 25.\n",
    "The digit sum of nums is 1 + 1 + 5 + 6 + 3 = 16.\n",
    "The absolute difference between the element sum and digit sum is |25 - 16| = 9."
   ]
  },
  {
   "cell_type": "code",
   "execution_count": 15,
   "id": "f97a6c00",
   "metadata": {},
   "outputs": [
    {
     "name": "stdout",
     "output_type": "stream",
     "text": [
      "9\n"
     ]
    }
   ],
   "source": [
    "\n",
    "def differenceOfSum(nums):\n",
    "    \n",
    "        \"\"\"\n",
    "        :type nums: List[int]\n",
    "        :rtype: int\n",
    "        \"\"\"\n",
    "        # get element sum by adding up elements\n",
    "        # write a loop if a number is > 9 then take the number and convert it into a string to seperate the digits\n",
    "        #convert the seperated digits back to int and add it to element sum\n",
    "        # finnaly find the diffrence\n",
    "\n",
    "        elementsum = 0 \n",
    "        digitsum = 0\n",
    "        x = []\n",
    "        temp = 0\n",
    "        final = 0\n",
    "\n",
    "        for i in nums:\n",
    "            digitsum = digitsum + i\n",
    "\n",
    "        for j in nums:\n",
    "            \n",
    "            if j > 9 :\n",
    "                strj= str(j)\n",
    "                for digit in strj:\n",
    "                    elementsum = elementsum + int(digit)\n",
    "\n",
    "            elif j < 9:\n",
    "                elementsum = elementsum + j \n",
    "                \n",
    "        elementsum = elementsum+temp\n",
    "        final = digitsum - elementsum\n",
    "  \n",
    "        return final \n",
    "array = [1,15,6,3]\n",
    "\n",
    "x= differenceOfSum(array)\n",
    "print(x)"
   ]
  },
  {
   "cell_type": "code",
   "execution_count": 16,
   "id": "8ea2ecf2",
   "metadata": {},
   "outputs": [],
   "source": [
    "# stacks "
   ]
  },
  {
   "cell_type": "raw",
   "id": "212959ce",
   "metadata": {},
   "source": [
    "Crawler Log Folder\n",
    "\n",
    "Hint: The Leetcode file system keeps a log each time some user performs a change folder operation.\n",
    "\n",
    "The operations are described below:\n",
    "\n",
    "\"../\" : Move to the parent folder of the current folder. (If you are already in the main folder, remain in the same folder).\n",
    "\"./\" : Remain in the same folder.\n",
    "\"x/\" : Move to the child folder named x (This folder is guaranteed to always exist).\n",
    "You are given a list of strings logs where logs[i] is the operation performed by the user at the ith step.\n",
    "\n",
    "The file system starts in the main folder, then the operations in logs are performed.\n",
    "\n",
    "Return the minimum number of operations needed to go back to the main folder after the change folder operations.\n",
    "\n",
    "Example 1:\n",
    "Input: logs = [\"d1/\",\"d2/\",\"../\",\"d21/\",\"./\"]\n",
    "Output: 2\n",
    "Explanation: Use this change folder operation \"../\" 2 times and go back to the main folder."
   ]
  },
  {
   "cell_type": "code",
   "execution_count": 17,
   "id": "0ec2ce42",
   "metadata": {},
   "outputs": [
    {
     "name": "stdout",
     "output_type": "stream",
     "text": [
      "3\n"
     ]
    }
   ],
   "source": [
    "def minOperations(logs):\n",
    "        \"\"\"\n",
    "        :type logs: List[str]\n",
    "        :rtype: int\n",
    "        \"\"\"\n",
    "        #approach \n",
    "        # use a stack as our tracker of user location\n",
    "        #every time the user enters a folder we append to the stack \n",
    "        #everytime the user goes back we pop from the stack \n",
    "        #find tle length of the stack to see the minimun number of operations\n",
    "        # testcase: if the stack is empty \n",
    "        # soultion: dont pop if stack is empty\n",
    "\n",
    "        tracker = []\n",
    "        \n",
    "        for i in logs:\n",
    "            if i == \"./\":\n",
    "                pass\n",
    "            elif i == \"../\" and len(tracker) > 0:\n",
    "                tracker.pop()\n",
    "            elif i != \"./\" and i != \"../\":\n",
    "                tracker.append(i)\n",
    "\n",
    "        return len(tracker)                \n",
    "\n",
    "log = [\"d1/\",\"d2/\",\"./\",\"d3/\",\"../\",\"d31/\"] \n",
    "\n",
    "print(minOperations(log))    "
   ]
  },
  {
   "cell_type": "code",
   "execution_count": null,
   "id": "91d01bde",
   "metadata": {},
   "outputs": [],
   "source": []
  },
  {
   "cell_type": "code",
   "execution_count": null,
   "id": "7b7a7a2e",
   "metadata": {},
   "outputs": [],
   "source": []
  },
  {
   "cell_type": "markdown",
   "id": "f5bdbd9f",
   "metadata": {},
   "source": [
    "# algorithms"
   ]
  },
  {
   "cell_type": "code",
   "execution_count": 18,
   "id": "4e9ce7c8",
   "metadata": {},
   "outputs": [
    {
     "name": "stdout",
     "output_type": "stream",
     "text": [
      "[1, 2, 4, 5, 6]\n"
     ]
    }
   ],
   "source": [
    "#bubblesort algorithm\n",
    "\n",
    "a = [6,4,1,5,2]\n",
    "n = len(a)\n",
    "\n",
    "def bubbles(array):\n",
    "    n = len(array)\n",
    "    for i in range(n-1):\n",
    "        switch = False\n",
    "        for j in range(n-1-i):\n",
    "            if array[j] > array[j+1]:\n",
    "                array[j], array[j+1] = array[j+1], array[j]\n",
    "                switch = True\n",
    "        \n",
    "        if not switch:\n",
    "            break\n",
    "    print(array)        \n",
    "        \n",
    "            \n",
    "bubbles(a)       \n",
    "    \n",
    "    "
   ]
  },
  {
   "cell_type": "code",
   "execution_count": 19,
   "id": "510ec35d",
   "metadata": {},
   "outputs": [
    {
     "name": "stdout",
     "output_type": "stream",
     "text": [
      "num found\n",
      "num not found\n"
     ]
    }
   ],
   "source": [
    "#binary search\n",
    "# given a sorted arrray find an element with the time complexity of. o(logn)\n",
    "\n",
    "a = [1,2,3,4,5]\n",
    "def binary(array,num):\n",
    "    \n",
    "    le = len(array)\n",
    "    mid = le//2\n",
    "    l =0\n",
    "    r = le -1\n",
    "    while l < r:\n",
    "        if array[mid] == num:\n",
    "            print(\"num found\")\n",
    "            return\n",
    "        elif array[mid] > num:\n",
    "            r = mid\n",
    "            mid = mid -1\n",
    "        elif array[mid] < num:\n",
    "            l = mid\n",
    "            mid = mid+1\n",
    "    \n",
    "    print(\"num not found\")\n",
    "\n",
    "binary(a,3)      \n",
    "        \n",
    "binary(a,7)"
   ]
  },
  {
   "cell_type": "code",
   "execution_count": 20,
   "id": "86b0301b",
   "metadata": {},
   "outputs": [
    {
     "name": "stdout",
     "output_type": "stream",
     "text": [
      "number found\n",
      "not found\n"
     ]
    }
   ],
   "source": [
    "#linear search\n",
    "\n",
    "def linear(array, num):\n",
    "    for i in range(len(array)-1):\n",
    "        found = False\n",
    "        if array[i] == num:\n",
    "            print(\"number found\")\n",
    "            found = True\n",
    "            break\n",
    "    if not found :\n",
    "        print(\"not found\")\n",
    "            \n",
    "        \n",
    "linear(a,3)\n",
    "linear(a,7)            \n"
   ]
  },
  {
   "cell_type": "code",
   "execution_count": 21,
   "id": "4f436804",
   "metadata": {},
   "outputs": [
    {
     "data": {
      "text/plain": [
       "[1, 2, 3, 4]"
      ]
     },
     "execution_count": 21,
     "metadata": {},
     "output_type": "execute_result"
    }
   ],
   "source": [
    "#bucket sort \n",
    "#bucket sort can be usefull when whe have to sort an array which is uniformly distributed over a known range\n",
    "#when an array is uniformly distributed we can get a time complexity of 0(n) \n",
    "#insted of using other efecient sorting algorithms which give o(logn)\n",
    "\n",
    "def bucketsort(array,bucketsize):\n",
    "    \n",
    "    n = len(array)\n",
    "    max_val = max(array)  #finds max val in array\n",
    "    min_val = min(array)  #finds min val in array \n",
    "    bucket_range = (max_val - min_val)/bucketsize   #finds bucket range ie. the max amount of values \n",
    "                                                    #that can be stored in each bucket\n",
    "    buckets = [[] for i in range(bucketsize)]  # declares a list buckets which contains multiple lists\n",
    "    \n",
    "    for i in range(n-1):\n",
    "        index =  int((array[i] - min_val)/bucketsize)  #formula to calculate which bucket the value goes to\n",
    "        buckets[index].append(array[i])           #adds our value to the bucket\n",
    "        \n",
    "    for i in range(bucketsize):\n",
    "        buckets[i].sort   #sorting each bucket\n",
    "    \n",
    "    result = []\n",
    "    for i in range(bucketsize):\n",
    "        result.extend(buckets[i])   #concatinates each element into the buckets\n",
    "    \n",
    "    return result\n",
    "        \n",
    "    \n",
    "bucketsort(a,2)    \n",
    "        \n",
    "    "
   ]
  },
  {
   "cell_type": "code",
   "execution_count": 22,
   "id": "41fe68f0",
   "metadata": {},
   "outputs": [
    {
     "name": "stdout",
     "output_type": "stream",
     "text": [
      "[1, 2, 2, 3, 3, 4, 8]\n"
     ]
    }
   ],
   "source": [
    "# counting sort \n",
    "def counting_sort(arr):\n",
    "    # Find the maximum value in the array to determine the range of the count array\n",
    "    max_val = max(arr)\n",
    "    \n",
    "    # Create a count array to store the frequency of each element (size: max_val + 1)\n",
    "    count = [0] * (max_val + 1)\n",
    "    \n",
    "    # Store the count of each element in the count array\n",
    "    for num in arr:\n",
    "        count[num] += 1\n",
    "    \n",
    "    # Reconstruct the sorted array\n",
    "    sorted_index = 0\n",
    "    for i in range(len(count)):\n",
    "        while count[i] > 0:\n",
    "            arr[sorted_index] = i\n",
    "            sorted_index += 1\n",
    "            count[i] -= 1\n",
    "    \n",
    "    return arr\n",
    "\n",
    "# Example usage:\n",
    "arr = [4, 2, 2, 8, 3, 3, 1]\n",
    "sorted_arr = counting_sort(arr)\n",
    "print(sorted_arr)  # Output: [1, 2, 2, 3, 3, 4, 8]\n"
   ]
  },
  {
   "cell_type": "code",
   "execution_count": 23,
   "id": "56a83ecf",
   "metadata": {},
   "outputs": [
    {
     "name": "stdout",
     "output_type": "stream",
     "text": [
      "[2, 24, 45, 66, 75, 90, 170, 802]\n"
     ]
    }
   ],
   "source": [
    "# radix sort\n",
    "# A utility function to perform counting sort based on the digit represented by exp (10^place)\n",
    "def counting_sort_by_digit(arr, exp):\n",
    "    n = len(arr)\n",
    "    output = [0] * n  # Output array to store sorted values\n",
    "    count = [0] * 10  # Count array to store frequency of digits (0-9)\n",
    "\n",
    "    # Count occurrences of digits based on the current digit place\n",
    "    for i in range(n):\n",
    "        index = (arr[i] // exp) % 10\n",
    "        count[index] += 1\n",
    "\n",
    "    # Update count[i] so it contains the actual position of this digit in the output array\n",
    "    for i in range(1, 10):\n",
    "        count[i] += count[i - 1]\n",
    "\n",
    "    # Build the output array\n",
    "    for i in range(n - 1, -1, -1):\n",
    "        index = (arr[i] // exp) % 10\n",
    "        output[count[index] - 1] = arr[i]\n",
    "        count[index] -= 1\n",
    "\n",
    "    # Copy the sorted values back into the original array\n",
    "    for i in range(n):\n",
    "        arr[i] = output[i]\n",
    "\n",
    "# Main function to implement Radix Sort\n",
    "def radix_sort(arr):\n",
    "    # Find the maximum number to know the number of digits\n",
    "    max_val = max(arr)\n",
    "\n",
    "    # Apply counting sort to sort elements by each digit's place (1s, 10s, 100s, etc.)\n",
    "    exp = 1  # Initialize exponent as 1 (for 1s place)\n",
    "    while max_val // exp > 0:\n",
    "        counting_sort_by_digit(arr, exp)\n",
    "        exp *= 10  # Move to the next digit place\n",
    "\n",
    "# Example usage:\n",
    "arr = [170, 45, 75, 90, 802, 24, 2, 66]\n",
    "radix_sort(arr)\n",
    "print(arr)  # Output: [2, 24, 45, 66, 75, 90, 170, 802]\n"
   ]
  },
  {
   "cell_type": "code",
   "execution_count": 24,
   "id": "d6a98f72",
   "metadata": {},
   "outputs": [
    {
     "name": "stdout",
     "output_type": "stream",
     "text": [
      "[2, 24, 45, 66, 75, 90, 170, 802]\n"
     ]
    }
   ],
   "source": [
    "#heap sort \n",
    "# A utility function to perform counting sort based on the digit represented by exp (10^place)\n",
    "def counting_sort_by_digit(arr, exp):\n",
    "    n = len(arr)\n",
    "    output = [0] * n  # Output array to store sorted values\n",
    "    count = [0] * 10  # Count array to store frequency of digits (0-9)\n",
    "\n",
    "    # Count occurrences of digits based on the current digit place\n",
    "    for i in range(n):\n",
    "        index = (arr[i] // exp) % 10\n",
    "        count[index] += 1\n",
    "\n",
    "    # Update count[i] so it contains the actual position of this digit in the output array\n",
    "    for i in range(1, 10):\n",
    "        count[i] += count[i - 1]\n",
    "\n",
    "    # Build the output array\n",
    "    for i in range(n - 1, -1, -1):\n",
    "        index = (arr[i] // exp) % 10\n",
    "        output[count[index] - 1] = arr[i]\n",
    "        count[index] -= 1\n",
    "\n",
    "    # Copy the sorted values back into the original array\n",
    "    for i in range(n):\n",
    "        arr[i] = output[i]\n",
    "\n",
    "# Main function to implement Radix Sort\n",
    "def radix_sort(arr):\n",
    "    # Find the maximum number to know the number of digits\n",
    "    max_val = max(arr)\n",
    "\n",
    "    # Apply counting sort to sort elements by each digit's place (1s, 10s, 100s, etc.)\n",
    "    exp = 1  # Initialize exponent as 1 (for 1s place)\n",
    "    while max_val // exp > 0:\n",
    "        counting_sort_by_digit(arr, exp)\n",
    "        exp *= 10  # Move to the next digit place\n",
    "\n",
    "# Example usage:\n",
    "arr = [170, 45, 75, 90, 802, 24, 2, 66]\n",
    "radix_sort(arr)\n",
    "print(arr)  # Output: [2, 24, 45, 66, 75, 90, 170, 802]\n"
   ]
  },
  {
   "cell_type": "code",
   "execution_count": 25,
   "id": "d4490f9e",
   "metadata": {},
   "outputs": [
    {
     "name": "stdout",
     "output_type": "stream",
     "text": [
      "[5, 6, 7, 11, 12, 13]\n"
     ]
    }
   ],
   "source": [
    "#merge sort \n",
    "# Function to merge two halves\n",
    "def merge(arr, left, mid, right):\n",
    "    # Create temp arrays\n",
    "    L = arr[left:mid + 1]\n",
    "    R = arr[mid + 1:right + 1]\n",
    "\n",
    "    i = j = 0  # Initial indices of L and R\n",
    "    k = left   # Initial index of merged array\n",
    "\n",
    "    # Merge the temp arrays back into arr\n",
    "    while i < len(L) and j < len(R):\n",
    "        if L[i] <= R[j]:\n",
    "            arr[k] = L[i]\n",
    "            i += 1\n",
    "        else:\n",
    "            arr[k] = R[j]\n",
    "            j += 1\n",
    "        k += 1\n",
    "\n",
    "    # Copy remaining elements of L, if any\n",
    "    while i < len(L):\n",
    "        arr[k] = L[i]\n",
    "        i += 1\n",
    "        k += 1\n",
    "\n",
    "    # Copy remaining elements of R, if any\n",
    "    while j < len(R):\n",
    "        arr[k] = R[j]\n",
    "        j += 1\n",
    "        k += 1\n",
    "\n",
    "# Main function to perform Merge Sort\n",
    "def merge_sort(arr, left, right):\n",
    "    if left < right:\n",
    "        mid = (left + right) // 2  # Find the middle point\n",
    "        merge_sort(arr, left, mid)  # Sort first half\n",
    "        merge_sort(arr, mid + 1, right)  # Sort second half\n",
    "        merge(arr, left, mid, right)  # Merge the two halves\n",
    "\n",
    "# Example usage:\n",
    "arr = [12, 11, 13, 5, 6, 7]\n",
    "merge_sort(arr, 0, len(arr) - 1)\n",
    "print(arr)  # Output: [5, 6, 7, 11, 12, 13]\n"
   ]
  },
  {
   "cell_type": "code",
   "execution_count": 26,
   "id": "d7820553",
   "metadata": {},
   "outputs": [
    {
     "name": "stdout",
     "output_type": "stream",
     "text": [
      "[1, 5, 7, 8, 9, 10]\n"
     ]
    }
   ],
   "source": [
    "#quick sort \n",
    "# Function to partition the array\n",
    "def partition(arr, low, high):\n",
    "    pivot = arr[high]  # Choose the last element as pivot\n",
    "    i = low - 1  # Pointer for the smaller element\n",
    "\n",
    "    # Rearrange elements based on pivot\n",
    "    for j in range(low, high):\n",
    "        if arr[j] <= pivot:\n",
    "            i += 1\n",
    "            arr[i], arr[j] = arr[j], arr[i]\n",
    "\n",
    "    arr[i + 1], arr[high] = arr[high], arr[i + 1]  # Place pivot at the correct position\n",
    "    return i + 1\n",
    "\n",
    "# Main function to perform Quick Sort\n",
    "def quick_sort(arr, low, high):\n",
    "    if low < high:\n",
    "        pi = partition(arr, low, high)  # Partitioning index\n",
    "        quick_sort(arr, low, pi - 1)  # Sort elements before partition\n",
    "        quick_sort(arr, pi + 1, high)  # Sort elements after partition\n",
    "\n",
    "# Example usage:\n",
    "arr = [10, 7, 8, 9, 1, 5]\n",
    "quick_sort(arr, 0, len(arr) - 1)\n",
    "print(arr)  # Output: [1, 5, 7, 8, 9, 10]\n"
   ]
  },
  {
   "cell_type": "markdown",
   "id": "88ffcd5b",
   "metadata": {},
   "source": [
    "# leetcode practice sorting algorithms"
   ]
  },
  {
   "cell_type": "raw",
   "id": "c8816063",
   "metadata": {},
   "source": [
    "question\n",
    "\n",
    "Split With Minimum Sum\n",
    "\n",
    "Given a positive integer num, split it into two non-negative integers num1 and num2 such that:\n",
    "\n",
    "The concatenation of num1 and num2 is a permutation of num.\n",
    "In other words, the sum of the number of occurrences of each digit in num1 and num2 is equal to the number of occurrences of that digit in num.\n",
    "num1 and num2 can contain leading zeros.\n",
    "Return the minimum possible sum of num1 and num2.\n",
    "\n",
    "Notes:\n",
    "\n",
    "It is guaranteed that num does not contain any leading zeros.\n",
    "The order of occurrence of the digits in num1 and num2 may differ from the order of occurrence of num.\n",
    "\n",
    "Example 1:\n",
    "\n",
    "Input: num = 4325\n",
    "Output: 59\n",
    "Explanation: We can split 4325 so that num1 is 24 and num2 is 35, giving a sum of 59. We can prove that 59 is indeed the minimal possible sum.\n"
   ]
  },
  {
   "cell_type": "code",
   "execution_count": 27,
   "id": "ac60df85",
   "metadata": {},
   "outputs": [
    {
     "name": "stdout",
     "output_type": "stream",
     "text": [
      "59\n"
     ]
    }
   ],
   "source": [
    "#solution\n",
    "#tought process\n",
    "#Convert number to digits and sort\n",
    "#Place digits alternately into num1 and num2\n",
    "#Convert to integers and return their sum\n",
    "\n",
    "def split_num_min_sum(num):\n",
    "     \n",
    "    digits = sorted(str(num))  \n",
    "    num1, num2 = \"\", \"\"  \n",
    "\n",
    "    for i, digit in enumerate(digits):\n",
    "        if i % 2 == 0:\n",
    "            num1 += digit  \n",
    "        else:\n",
    "            num2 += digit\n",
    "\n",
    "    return int(num1) + int(num2)  \n",
    "\n",
    "# Testcase\n",
    "num = 4325\n",
    "print(split_num_min_sum(num))  # Output: 59 (32 + 27)\n"
   ]
  },
  {
   "cell_type": "markdown",
   "id": "4021277c",
   "metadata": {},
   "source": [
    "Number of Distinct Averages\n",
    "\n",
    "Hint\n",
    "You are given a 0-indexed integer array nums of even length.\n",
    "\n",
    "As long as nums is not empty, you must repetitively:\n",
    "\n",
    "Find the minimum number in nums and remove it.\n",
    "Find the maximum number in nums and remove it.\n",
    "Calculate the average of the two removed numbers.\n",
    "The average of two numbers a and b is (a + b) / 2.\n",
    "\n",
    "For example, the average of 2 and 3 is (2 + 3) / 2 = 2.5.\n",
    "Return the number of distinct averages calculated using the above process.\n",
    "\n",
    "Note that when there is a tie for a minimum or maximum number, any can be removed.\n",
    "\n",
    "Example 1:\n",
    "\n",
    "Input: nums = [4,1,4,0,3,5]\n",
    "Output: 2\n",
    "Explanation:\n",
    "1. Remove 0 and 5, and the average is (0 + 5) / 2 = 2.5. Now, nums = [4,1,4,3].\n",
    "2. Remove 1 and 4. The average is (1 + 4) / 2 = 2.5, and nums = [4,3].\n",
    "3. Remove 3 and 4, and the average is (3 + 4) / 2 = 3.5.\n",
    "Since there are 2 distinct numbers among 2.5, 2.5, and 3.5, we return 2."
   ]
  },
  {
   "cell_type": "code",
   "execution_count": 28,
   "id": "de8fda2e",
   "metadata": {},
   "outputs": [
    {
     "name": "stdout",
     "output_type": "stream",
     "text": [
      "2\n"
     ]
    }
   ],
   "source": [
    "#tought process\n",
    "#Sort the array\n",
    "#use Sets to track distinct averages\n",
    "#Keep removing pairs of min and max\n",
    "#Return the number of distinct averages\n",
    "def distinct_averages(nums):\n",
    "    nums.sort()  # Step 1: \n",
    "    distinct_avg = set()  \n",
    " \n",
    "    while nums:\n",
    "        min_num = nums.pop(0)  \n",
    "        max_num = nums.pop()   \n",
    "        avg = (min_num + max_num) / 2  \n",
    "        distinct_avg.add(avg)  \n",
    "\n",
    "    return len(distinct_avg)  \n",
    "\n",
    "# Testcase\n",
    "nums = [4, 1, 4, 0, 3, 5]\n",
    "print(distinct_averages(nums))  \n"
   ]
  },
  {
   "cell_type": "markdown",
   "id": "acdb4022",
   "metadata": {},
   "source": [
    "# Dijkstra's and Bellman-Ford Algorithm"
   ]
  },
  {
   "cell_type": "code",
   "execution_count": 29,
   "id": "f3b39cba",
   "metadata": {},
   "outputs": [
    {
     "name": "stdout",
     "output_type": "stream",
     "text": [
      "{'A': 0, 'B': 1, 'C': 3, 'D': 4}\n"
     ]
    }
   ],
   "source": [
    "import heapq\n",
    "\n",
    "def dijkstra(graph, start):\n",
    "    # Initialize distances as infinite for all vertices, and set distance of start to 0\n",
    "    distances = {vertex: float('infinity') for vertex in graph}\n",
    "    distances[start] = 0\n",
    "\n",
    "    # Priority queue to pick the vertex with the smallest distance\n",
    "    priority_queue = [(0, start)]  # (distance, vertex)\n",
    "\n",
    "    while priority_queue:\n",
    "        current_distance, current_vertex = heapq.heappop(priority_queue)\n",
    "\n",
    "        # Skip if the current distance is greater than the stored one (already processed)\n",
    "        if current_distance > distances[current_vertex]:\n",
    "            continue\n",
    "\n",
    "        # Check the neighbors and update distances\n",
    "        for neighbor, weight in graph[current_vertex].items():\n",
    "            distance = current_distance + weight\n",
    "\n",
    "            # Only update if the new distance is shorter\n",
    "            if distance < distances[neighbor]:\n",
    "                distances[neighbor] = distance\n",
    "                heapq.heappush(priority_queue, (distance, neighbor))\n",
    "\n",
    "    return distances\n",
    "\n",
    "# Example graph: each node points to neighbors with their respective edge weights\n",
    "graph = {\n",
    "    'A': {'B': 1, 'C': 4},\n",
    "    'B': {'A': 1, 'C': 2, 'D': 5},\n",
    "    'C': {'A': 4, 'B': 2, 'D': 1},\n",
    "    'D': {'B': 5, 'C': 1}\n",
    "}\n",
    "\n",
    "# Running Dijkstra's algorithm from node 'A'\n",
    "print(dijkstra(graph, 'A'))  # Output: {'A': 0, 'B': 1, 'C': 3, 'D': 4}\n"
   ]
  },
  {
   "cell_type": "code",
   "execution_count": 30,
   "id": "5ea20412",
   "metadata": {},
   "outputs": [
    {
     "name": "stdout",
     "output_type": "stream",
     "text": [
      "{'A': 0, 'B': -1, 'C': 2, 'D': -2, 'E': 1}\n"
     ]
    }
   ],
   "source": [
    "def bellman_ford(graph, start):\n",
    "    # Initialize distances to infinity for all vertices, and set distance of start to 0\n",
    "    distances = {vertex: float('infinity') for vertex in graph}\n",
    "    distances[start] = 0\n",
    "\n",
    "    # Relax edges |V| - 1 times\n",
    "    for _ in range(len(graph) - 1):\n",
    "        for vertex in graph:\n",
    "            for neighbor, weight in graph[vertex].items():\n",
    "                if distances[vertex] + weight < distances[neighbor]:\n",
    "                    distances[neighbor] = distances[vertex] + weight\n",
    "\n",
    "    # Check for negative-weight cycles\n",
    "    for vertex in graph:\n",
    "        for neighbor, weight in graph[vertex].items():\n",
    "            if distances[vertex] + weight < distances[neighbor]:\n",
    "                raise ValueError(\"Graph contains a negative-weight cycle\")\n",
    "\n",
    "    return distances\n",
    "\n",
    "# Example graph with negative weights\n",
    "graph = {\n",
    "    'A': {'B': -1, 'C': 4},\n",
    "    'B': {'C': 3, 'D': 2, 'E': 2},\n",
    "    'C': {},\n",
    "    'D': {'B': 1, 'C': 5},\n",
    "    'E': {'D': -3}\n",
    "}\n",
    "\n",
    "# Running Bellman-Ford algorithm from node 'A'\n",
    "print(bellman_ford(graph, 'A'))  # Output: {'A': 0, 'B': -1, 'C': 2, 'D': -2, 'E': 1}\n"
   ]
  },
  {
   "cell_type": "markdown",
   "id": "7a6881ed",
   "metadata": {},
   "source": [
    "# dfs and bfs implemetation "
   ]
  },
  {
   "cell_type": "code",
   "execution_count": 31,
   "id": "b7839ba1",
   "metadata": {},
   "outputs": [
    {
     "name": "stdout",
     "output_type": "stream",
     "text": [
      "['A', 'C', 'B', 'E', 'D']\n"
     ]
    }
   ],
   "source": [
    "#dfs\n",
    "def dfs_iterative(graph, start):\n",
    "    visited = set()  # To track visited nodes\n",
    "    stack = [start]  # Initialize stack with the start node\n",
    "    result = []  # To store the order of traversal\n",
    "\n",
    "    while stack:\n",
    "        vertex = stack.pop()  # Get the next node to visit\n",
    "\n",
    "        if vertex not in visited:\n",
    "            visited.add(vertex)  # Mark the node as visited\n",
    "            result.append(vertex)  # Store the traversal order\n",
    "\n",
    "            # Add unvisited neighbors to the stack\n",
    "            stack.extend(neighbor for neighbor in graph[vertex] if neighbor not in visited)\n",
    "\n",
    "    return result\n",
    "\n",
    "# Running DFS (iterative) from node 'A'\n",
    "print(dfs_iterative(graph, 'A'))  # Output: ['A', 'C', 'F', 'E', 'B', 'D']\n"
   ]
  },
  {
   "cell_type": "code",
   "execution_count": 32,
   "id": "1c079af4",
   "metadata": {},
   "outputs": [
    {
     "name": "stdout",
     "output_type": "stream",
     "text": [
      "['A', 'B', 'C', 'D', 'E', 'F']\n"
     ]
    }
   ],
   "source": [
    "#bfs\n",
    "from collections import deque\n",
    "\n",
    "def bfs(graph, start):\n",
    "    visited = set()  # To track visited nodes\n",
    "    queue = deque([start])  # Initialize queue with the start node\n",
    "    result = []  # To store the order of traversal\n",
    "\n",
    "    while queue:\n",
    "        vertex = queue.popleft()  # Get the next node to visit\n",
    "\n",
    "        if vertex not in visited:\n",
    "            visited.add(vertex)  # Mark the node as visited\n",
    "            result.append(vertex)  # Store the traversal order\n",
    "\n",
    "            # Add unvisited neighbors to the queue\n",
    "            queue.extend(neighbor for neighbor in graph[vertex] if neighbor not in visited)\n",
    "\n",
    "    return result\n",
    "\n",
    "# Example graph (adjacency list)\n",
    "graph = {\n",
    "    'A': ['B', 'C'],\n",
    "    'B': ['A', 'D', 'E'],\n",
    "    'C': ['A', 'F'],\n",
    "    'D': ['B'],\n",
    "    'E': ['B', 'F'],\n",
    "    'F': ['C', 'E']\n",
    "}\n",
    "\n",
    "# Running BFS from node 'A'\n",
    "print(bfs(graph, 'A'))  # Output: ['A', 'B', 'C', 'D', 'E', 'F']\n"
   ]
  },
  {
   "cell_type": "code",
   "execution_count": 33,
   "id": "51682b5b",
   "metadata": {},
   "outputs": [
    {
     "name": "stdout",
     "output_type": "stream",
     "text": [
      "Maximum value in Knapsack = 240.0\n"
     ]
    }
   ],
   "source": [
    "# fractional_knapsack problem using greedy algorithm\n",
    "class Item:\n",
    "    def __init__(self, value, weight):\n",
    "        self.value = value\n",
    "        self.weight = weight\n",
    "\n",
    "def fractional_knapsack(capacity, items):\n",
    "    # Sort items by value-to-weight ratio in descending order\n",
    "    items.sort(key=lambda x: x.value / x.weight, reverse=True)\n",
    "\n",
    "    total_value = 0  # Total value collected in the knapsack\n",
    "\n",
    "    for item in items:\n",
    "        if capacity >= item.weight:\n",
    "            # If we can take the whole item\n",
    "            total_value += item.value\n",
    "            capacity -= item.weight\n",
    "        else:\n",
    "            # If we can only take part of the item\n",
    "            total_value += item.value * (capacity / item.weight)\n",
    "            break  # Knapsack is full\n",
    "\n",
    "    return total_value\n",
    "\n",
    "# Example usage:\n",
    "items = [Item(60, 10), Item(100, 20), Item(120, 30)]\n",
    "capacity = 50\n",
    "print(f\"Maximum value in Knapsack = {fractional_knapsack(capacity, items)}\")\n",
    "# Output: Maximum value in Knapsack = 240.0\n"
   ]
  }
 ],
 "metadata": {
  "kernelspec": {
   "display_name": "Python 3 (ipykernel)",
   "language": "python",
   "name": "python3"
  },
  "language_info": {
   "codemirror_mode": {
    "name": "ipython",
    "version": 3
   },
   "file_extension": ".py",
   "mimetype": "text/x-python",
   "name": "python",
   "nbconvert_exporter": "python",
   "pygments_lexer": "ipython3",
   "version": "3.11.5"
  }
 },
 "nbformat": 4,
 "nbformat_minor": 5
}
