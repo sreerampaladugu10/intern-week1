{
 "cells": [
  {
   "cell_type": "markdown",
   "id": "48cd967f",
   "metadata": {},
   "source": [
    "# DSA week 2 "
   ]
  },
  {
   "cell_type": "markdown",
   "id": "5e9d9735",
   "metadata": {},
   "source": [
    "# BINARY TREES"
   ]
  },
  {
   "cell_type": "code",
   "execution_count": null,
   "id": "570d891f",
   "metadata": {},
   "outputs": [],
   "source": [
    "\"\"\"A Binary Tree is a hierarchical data structure where each node has at most two children,\n",
    "referred to as the left child and the right child. \n",
    "In a Binary Search Tree (BST), an extension of a binary tree,the left subtree of a node contains only nodes with values less than the node’s key,\n",
    "and the right subtree only contains nodes with values greater than the node’s key. \n",
    "This structure makes it efficient for operations like insertion, deletion, and searching, \n",
    "which can be performed in O(log n) time on average if the tree is balanced.\"\"\""
   ]
  },
  {
   "cell_type": "raw",
   "id": "3ee0eac9",
   "metadata": {},
   "source": [
    "# BINARY TREE SEARCH IMPLIMENTATION"
   ]
  },
  {
   "cell_type": "code",
   "execution_count": 2,
   "id": "20e58bdb",
   "metadata": {},
   "outputs": [
    {
     "name": "stdout",
     "output_type": "stream",
     "text": [
      "20 30 40 50 60 70 80 "
     ]
    }
   ],
   "source": [
    "class Node:\n",
    "    def __init__(self, key):\n",
    "        # Initialize a new node with the given key\n",
    "        self.left = None  # Left child initially set to None\n",
    "        self.right = None  # Right child initially set to None\n",
    "        self.value = key  # Node's value is set to the given key\n",
    "\n",
    "class BinarySearchTree:\n",
    "    def __init__(self):\n",
    "        # Initialize the root of the BST as None\n",
    "        self.root = None\n",
    "\n",
    "    def insert(self, key):\n",
    "        # Insert a new node with the given key\n",
    "        if self.root is None:\n",
    "            # If the tree is empty, the new node becomes the root\n",
    "            self.root = Node(key)\n",
    "        else:\n",
    "            # Otherwise, insert the key recursively starting from the root\n",
    "            self._insert(self.root, key)\n",
    "\n",
    "    def _insert(self, root, key):\n",
    "        # Helper function to insert a node in the correct position\n",
    "        if key < root.value:\n",
    "            # If the key is smaller, go to the left subtree\n",
    "            if root.left is None:\n",
    "                root.left = Node(key)  # Insert new node as left child\n",
    "            else:\n",
    "                self._insert(root.left, key)  # Recur down the left subtree\n",
    "        else:\n",
    "            # If the key is larger, go to the right subtree\n",
    "            if root.right is None:\n",
    "                root.right = Node(key)  # Insert new node as right child\n",
    "            else:\n",
    "                self._insert(root.right, key)  # Recur down the right subtree\n",
    "\n",
    "    def inorder(self, root):\n",
    "        # Perform in-order traversal (left, root, right) to print the tree in sorted order\n",
    "        if root:\n",
    "            # Traverse the left subtree first\n",
    "            self.inorder(root.left)\n",
    "            # Print the root node value\n",
    "            print(root.value, end=\" \")\n",
    "            # Traverse the right subtree next\n",
    "            self.inorder(root.right)\n",
    "\n",
    "\n",
    "bst = BinarySearchTree()\n",
    "# Insert nodes into the BST\n",
    "bst.insert(50)\n",
    "bst.insert(30)\n",
    "bst.insert(70)\n",
    "bst.insert(20)\n",
    "bst.insert(40)\n",
    "bst.insert(60)\n",
    "bst.insert(80)\n",
    "\n",
    "# Inorder traversal will print the values in sorted order\n",
    "bst.inorder(bst.root)\n",
    "\n"
   ]
  },
  {
   "cell_type": "markdown",
   "id": "c9016c46",
   "metadata": {},
   "source": [
    "#leetcode tree and graph problems"
   ]
  },
  {
   "cell_type": "code",
   "execution_count": null,
   "id": "5ec74b31",
   "metadata": {},
   "outputs": [],
   "source": [
    "\"\"\"Given the roots of two binary trees p and q, write a function to check if they are the same or not.\n",
    "\n",
    "Two binary trees are considered the same if they are structurally identical, and the nodes have the same value.\n",
    "\n",
    " \n",
    "\n",
    "Example 1:\n",
    "\n",
    "\n",
    "Input: p = [1,2,3], q = [1,2,3]\n",
    "Output: true\n",
    "Example 2:\n",
    "\n",
    "\n",
    "Input: p = [1,2], q = [1,null,2]\n",
    "Output: false\n",
    "Example 3:\n",
    "\n",
    "\n",
    "Input: p = [1,2,1], q = [1,1,2]\n",
    "Output: false\n",
    " \n",
    "\n",
    "Constraints:\n",
    "\n",
    "The number of nodes in both trees is in the range [0, 100].\n",
    "-104 <= Node.val <= 104\"\"\""
   ]
  },
  {
   "cell_type": "code",
   "execution_count": 4,
   "id": "4abb3eb6",
   "metadata": {},
   "outputs": [
    {
     "name": "stdout",
     "output_type": "stream",
     "text": [
      "True\n"
     ]
    }
   ],
   "source": [
    "\"\"\"tought process\n",
    "If both trees are empty, they are the same.\n",
    "If both roots exist, check values, then recursively compare left and right subtrees.\n",
    "If any mismatch in structure or values, return false.\"\"\"\n",
    "\n",
    "# Definition for a binary tree node.\n",
    "class TreeNode:\n",
    "    def __init__(self, val=0, left=None, right=None):\n",
    "        self.val = val\n",
    "        self.left = left\n",
    "        self.right = right\n",
    "\n",
    "def isSameTree(p: TreeNode, q: TreeNode) -> bool:\n",
    "    # Base case: If both trees are empty, they are the same\n",
    "    if not p and not q:\n",
    "        return True\n",
    "    \n",
    "    # If one tree is empty and the other is not, they are not the same\n",
    "    if not p or not q:\n",
    "        return False\n",
    "    \n",
    "    # Check if the current nodes have the same value, then recursively check left and right subtrees\n",
    "    return (p.val == q.val) and isSameTree(p.left, q.left) and isSameTree(p.right, q.right)\n",
    "\n",
    "\n",
    "# Input: p = [1,2,3], q = [1,2,3]\n",
    "p = TreeNode(1, TreeNode(2), TreeNode(3))\n",
    "q = TreeNode(1, TreeNode(2), TreeNode(3))\n",
    "\n",
    "# Output: True\n",
    "print(isSameTree(p, q))  # Expected output: True\n"
   ]
  },
  {
   "cell_type": "code",
   "execution_count": null,
   "id": "8fdbe961",
   "metadata": {},
   "outputs": [],
   "source": [
    "\"\"\"question 2 \n",
    "Binary Tree Paths\n",
    "\n",
    "Given the root of a binary tree, return all root-to-leaf paths in any order.\n",
    "\n",
    "A leaf is a node with no children.\n",
    "\n",
    "Example 1:\n",
    "Input: root = [1,2,3,null,5]\n",
    "Output: [\"1->2->5\",\"1->3\"]\n",
    "Example 2:\n",
    "\n",
    "Input: root = [1]\n",
    "Output: [\"1\"]\n",
    " \n",
    "\n",
    "Constraints:\n",
    "\n",
    "The number of nodes in the tree is in the range [1, 100].\n",
    "-100 <= Node.val <= 100\"\"\""
   ]
  },
  {
   "cell_type": "code",
   "execution_count": 5,
   "id": "ee8d9fe2",
   "metadata": {},
   "outputs": [
    {
     "name": "stdout",
     "output_type": "stream",
     "text": [
      "['1->2->5', '1->3']\n"
     ]
    }
   ],
   "source": [
    "\"\"\"tought process\n",
    "If the tree is empty, return an empty list.\n",
    "Traverse the tree, adding the node value to the current path.\n",
    "If a node is a leaf (no children), add the path to the result.\"\"\"\n",
    "\n",
    "# Definition for a binary tree node.\n",
    "class TreeNode:\n",
    "    def __init__(self, val=0, left=None, right=None):\n",
    "        self.val = val\n",
    "        self.left = left\n",
    "        self.right = right\n",
    "\n",
    "class Solution:\n",
    "    def binaryTreePaths(self, root: TreeNode):\n",
    "        # Helper function to find paths\n",
    "        def findPaths(node, current_path, paths):\n",
    "            if node:\n",
    "                current_path += str(node.val)\n",
    "                # If it's a leaf node, add the path to the result\n",
    "                if not node.left and not node.right:\n",
    "                    paths.append(current_path)\n",
    "                else:\n",
    "                    # If not a leaf, continue to explore left and right subtrees\n",
    "                    current_path += \"->\"\n",
    "                    findPaths(node.left, current_path, paths)\n",
    "                    findPaths(node.right, current_path, paths)\n",
    "        \n",
    "        paths = []\n",
    "        findPaths(root, \"\", paths)\n",
    "        return paths\n",
    "\n",
    "\n",
    "# Input: root = [1,2,3,null,5]\n",
    "root = TreeNode(1, TreeNode(2, None, TreeNode(5)), TreeNode(3))\n",
    "\n",
    "solution = Solution()\n",
    "# Output: [\"1->2->5\", \"1->3\"]\n",
    "print(solution.binaryTreePaths(root))  # Expected output: [\"1->2->5\", \"1->3\"]\n"
   ]
  },
  {
   "cell_type": "code",
   "execution_count": null,
   "id": "b7824cd2",
   "metadata": {},
   "outputs": [],
   "source": [
    "\"\"\"258. Add Digits\n",
    "\n",
    "Hint\n",
    "Given an integer num, repeatedly add all its digits until the result has only one digit, and return it.\n",
    "\n",
    " \n",
    "\n",
    "Example 1:\n",
    "\n",
    "Input: num = 38\n",
    "Output: 2\n",
    "Explanation: The process is\n",
    "38 --> 3 + 8 --> 11\n",
    "11 --> 1 + 1 --> 2 \n",
    "Since 2 has only one digit, return it.\n",
    "Example 2:\n",
    "\n",
    "Input: num = 0\n",
    "Output: 0\n",
    " \n",
    "\n",
    "Constraints:\n",
    "\n",
    "0 <= num <= 231 - 1\n",
    " \n",
    "\n",
    "Follow up: Could you do it without any loop/recursion in O(1) runtime?\"\"\""
   ]
  },
  {
   "cell_type": "code",
   "execution_count": 6,
   "id": "ba0788ff",
   "metadata": {},
   "outputs": [
    {
     "name": "stdout",
     "output_type": "stream",
     "text": [
      "2\n",
      "2\n"
     ]
    }
   ],
   "source": [
    "\"\"\"tought process\n",
    "Add the digits of the number repeatedly until the result has only one digit.\n",
    "Use the Digital Root formula to get the result in constant time without looping or recursion.\n",
    "\"\"\"\n",
    "\n",
    "class Solution:\n",
    "    # Method to add digits using the iterative approach\n",
    "    def addDigits(self, num: int) -> int:\n",
    "        # Repeatedly sum the digits until we get a single digit\n",
    "        while num >= 10:\n",
    "            num = sum(int(digit) for digit in str(num))\n",
    "        return num\n",
    "    \n",
    "    # Method to add digits using the O(1) approach (Digital Root)\n",
    "    def addDigitsO1(self, num: int) -> int:\n",
    "        if num == 0:\n",
    "            return 0\n",
    "        # Use the digital root formula\n",
    "        return 1 + (num - 1) % 9 if num != 0 else 0\n",
    "\n",
    "\n",
    "solution = Solution()\n",
    "\n",
    "# Input: num = 38\n",
    "num = 38\n",
    "# Output: 2 (iterative approach)\n",
    "print(solution.addDigits(num))  # Expected output: 2\n",
    "\n",
    "# Output: 2 (O(1) approach)\n",
    "print(solution.addDigitsO1(num))  # Expected output: 2\n"
   ]
  },
  {
   "cell_type": "markdown",
   "id": "77166871",
   "metadata": {},
   "source": [
    "# dynamic programing"
   ]
  },
  {
   "cell_type": "code",
   "execution_count": null,
   "id": "4476fa38",
   "metadata": {},
   "outputs": [],
   "source": [
    "\"\"\"Understanding Dynamic Programming\n",
    "Dynamic Programming (DP) is an optimization technique for solving problems by breaking them down into overlapping\n",
    "subproblems and storing their results. This avoids redundant calculations and improves efficiency. \n",
    "DP is often used for problems exhibiting optimal substructure,\n",
    "where the optimal solution can be constructed from the optimal solutions of its subproblems. \n",
    "\n",
    "There are two main types of DP based on the solution strategy:\n",
    "\n",
    "  Top-Down (Memoization): Solves problems recursively, storing subproblem solutions to avoid recomputation.\n",
    "\n",
    "  Bottom-Up (Tabulation): Solves problems iteratively, building solutions from base cases to the overall solution.\n",
    "\n",
    "\"\"\""
   ]
  },
  {
   "cell_type": "code",
   "execution_count": 8,
   "id": "37a710c2",
   "metadata": {},
   "outputs": [
    {
     "name": "stdout",
     "output_type": "stream",
     "text": [
      "[0, 1, 1, 2, 3, 5]\n"
     ]
    }
   ],
   "source": [
    "def fib_sequence(n: int) -> list:\n",
    "    # Memoization table to store previously calculated Fibonacci values\n",
    "    memo = [-1] * (n + 1)\n",
    "    \n",
    "    def dp(n):\n",
    "        # Base cases: Fibonacci(0) = 0, Fibonacci(1) = 1\n",
    "        if n <= 1:\n",
    "            return n\n",
    "        # If the result is already calculated, return it\n",
    "        if memo[n] != -1:\n",
    "            return memo[n]\n",
    "        # Recursively calculate and store the result\n",
    "        memo[n] = dp(n - 1) + dp(n - 2)\n",
    "        return memo[n]\n",
    "\n",
    "    # Generate the Fibonacci sequence up to n\n",
    "    sequence = []\n",
    "    for i in range(n + 1):\n",
    "        sequence.append(dp(i))\n",
    "    \n",
    "    return sequence\n",
    "\n",
    "\n",
    "# Input: n = 5\n",
    "# Output: [0, 1, 1, 2, 3, 5]\n",
    "print(fib_sequence(5))  # Expected output: [0, 1, 1, 2, 3, 5]\n",
    "\n"
   ]
  },
  {
   "cell_type": "code",
   "execution_count": 9,
   "id": "39cb5b8a",
   "metadata": {},
   "outputs": [
    {
     "name": "stdout",
     "output_type": "stream",
     "text": [
      "8\n"
     ]
    }
   ],
   "source": [
    "def climbStairs(n: int) -> int:\n",
    "    \"\"\"\n",
    "    Problem Statement:\n",
    "    it takes n steps to reach the top, how many unique ways are there to reach the top of the staircase \n",
    "    if you take either 1 or 2 steps at a time?\n",
    "    \"\"\"\n",
    "    \n",
    "    # Base cases\n",
    "    if n <= 1:\n",
    "        return 1\n",
    "    \n",
    "    # Memoization table to store the number of ways to reach each step\n",
    "    dp = [0] * (n + 1)\n",
    "    dp[0], dp[1] = 1, 1  # 1 way to reach step 0 and step 1\n",
    "\n",
    "    # Fill the dp table\n",
    "    for i in range(2, n + 1):\n",
    "        dp[i] = dp[i - 1] + dp[i - 2]\n",
    "    \n",
    "    return dp[n]\n",
    "\n",
    "\n",
    "print(climbStairs(5))  \n"
   ]
  },
  {
   "cell_type": "code",
   "execution_count": 11,
   "id": "6709db4a",
   "metadata": {},
   "outputs": [
    {
     "name": "stdout",
     "output_type": "stream",
     "text": [
      "7\n"
     ]
    }
   ],
   "source": [
    "def minPathSum(grid) -> int:\n",
    "    \"\"\"\n",
    "    Problem Statement:\n",
    "    Given a m x n grid filled with non-negative numbers, find a path from the \n",
    "    top left to the bottom right, which minimizes the sum of the numbers along the path.\n",
    "    You can only move either down or right at any point in time.\n",
    "\n",
    "    \"\"\"\n",
    "    \n",
    "    if not grid or not grid[0]:\n",
    "        return 0\n",
    "\n",
    "    m, n = len(grid), len(grid[0])\n",
    "    \n",
    "    # Create a DP table with the same dimensions as grid\n",
    "    dp = [[0] * n for _ in range(m)]\n",
    "    \n",
    "    # Initialize the starting point\n",
    "    dp[0][0] = grid[0][0]\n",
    "\n",
    "    # Fill the first row\n",
    "    for j in range(1, n):\n",
    "        dp[0][j] = dp[0][j - 1] + grid[0][j]\n",
    "\n",
    "    # Fill the first column\n",
    "    for i in range(1, m):\n",
    "        dp[i][0] = dp[i - 1][0] + grid[i][0]\n",
    "\n",
    "    # Fill the rest of the DP table\n",
    "    for i in range(1, m):\n",
    "        for j in range(1, n):\n",
    "            dp[i][j] = min(dp[i - 1][j], dp[i][j - 1]) + grid[i][j]\n",
    "\n",
    "    return dp[m - 1][n - 1]\n",
    "\n",
    "# Example usage:\n",
    "grid = [[1, 3, 1],\n",
    "        [1, 5, 1],\n",
    "        [4, 2, 1]]\n",
    "print(minPathSum(grid))  # Expected output: 7\n"
   ]
  },
  {
   "cell_type": "markdown",
   "id": "9750071b",
   "metadata": {},
   "source": [
    "# leetcode questions dynamic programing"
   ]
  },
  {
   "cell_type": "code",
   "execution_count": null,
   "id": "012d8adb",
   "metadata": {},
   "outputs": [],
   "source": [
    "\"\"\"You are given an array prices where prices[i] is the price of a given stock on the ith day.\n",
    "\n",
    "You want to maximize your profit by choosing a single day to buy one stock and choosing a different day in the future to sell that stock.\n",
    "\n",
    "Return the maximum profit you can achieve from this transaction. If you cannot achieve any profit, return 0.\n",
    "\n",
    " \n",
    "\n",
    "Example 1:\n",
    "\n",
    "Input: prices = [7,1,5,3,6,4]\n",
    "Output: 5\n",
    "Explanation: Buy on day 2 (price = 1) and sell on day 5 (price = 6), profit = 6-1 = 5.\n",
    "Note that buying on day 2 and selling on day 1 is not allowed because you must buy before you sell.\n",
    "Example 2:\n",
    "\n",
    "Input: prices = [7,6,4,3,1]\n",
    "Output: 0\n",
    "Explanation: In this case, no transactions are done and the max profit = 0.\n",
    " \n",
    "\n",
    "Constraints:\n",
    "\n",
    "1 <= prices.length <= 105\n",
    "0 <= prices[i] <= 104\"\"\""
   ]
  },
  {
   "cell_type": "code",
   "execution_count": 12,
   "id": "cf71d062",
   "metadata": {},
   "outputs": [
    {
     "name": "stdout",
     "output_type": "stream",
     "text": [
      "5\n",
      "0\n"
     ]
    }
   ],
   "source": [
    "def maxProfit(prices) -> int:\n",
    "    # Initialize variables to track the minimum price and maximum profit\n",
    "    min_price = float('inf')  # Start with an infinitely high minimum price\n",
    "    max_profit = 0  # Start with zero profit\n",
    "\n",
    "    for price in prices:\n",
    "        # Update the minimum price if the current price is lower\n",
    "        if price < min_price:\n",
    "            min_price = price\n",
    "        # Calculate the potential profit and update max_profit if it's higher\n",
    "        elif price - min_price > max_profit:\n",
    "            max_profit = price - min_price\n",
    "\n",
    "    return max_profit\n",
    "\n",
    "prices1 = [7, 1, 5, 3, 6, 4]\n",
    "print(maxProfit(prices1))  # Expected output: 5\n",
    "\n",
    "prices2 = [7, 6, 4, 3, 1]\n",
    "print(maxProfit(prices2))  # Expected output: 0\n"
   ]
  },
  {
   "cell_type": "code",
   "execution_count": null,
   "id": "20f535ec",
   "metadata": {},
   "outputs": [],
   "source": [
    "\"\"\"338. Counting Bits\n",
    "Hint\n",
    "Given an integer n, return an array ans of length n + 1 such that for each i (0 <= i <= n), ans[i] is the number of 1's in the binary representation of i.\n",
    "\n",
    "Example 1:\n",
    "\n",
    "Input: n = 2\n",
    "Output: [0,1,1]\n",
    "Explanation:\n",
    "0 --> 0\n",
    "1 --> 1\n",
    "2 --> 10\n",
    "Example 2:\n",
    "\n",
    "Input: n = 5\n",
    "Output: [0,1,1,2,1,2]\n",
    "Explanation:\n",
    "0 --> 0\n",
    "1 --> 1\n",
    "2 --> 10\n",
    "3 --> 11\n",
    "4 --> 100\n",
    "5 --> 101\n",
    " \n",
    "\n",
    "Constraints:\n",
    "\n",
    "0 <= n <= 105\n",
    "\"\"\""
   ]
  },
  {
   "cell_type": "code",
   "execution_count": 13,
   "id": "3be26559",
   "metadata": {},
   "outputs": [
    {
     "name": "stdout",
     "output_type": "stream",
     "text": [
      "[0, 1, 1]\n",
      "[0, 1, 1, 2, 1, 2]\n"
     ]
    }
   ],
   "source": [
    "def countBits(n: int) -> list:\n",
    "    \"\"\"\n",
    "    Given an integer n, return an array ans of length n + 1 such that for each \n",
    "    i (0 <= i <= n), ans[i] is the number of 1's in the binary representation of i.\n",
    "    \"\"\"\n",
    "\n",
    "    ans = [0] * (n + 1)  # Initialize the result array with zeros\n",
    "\n",
    "    for i in range(1, n + 1):\n",
    "        # Use the previously calculated values to determine the number of 1's\n",
    "        ans[i] = ans[i >> 1] + (i & 1)\n",
    "\n",
    "    return ans\n",
    "\n",
    "# Example usage:\n",
    "print(countBits(2))  # Expected output: [0, 1, 1]\n",
    "print(countBits(5))  # Expected output: [0, 1, 1, 2, 1, 2]\n"
   ]
  },
  {
   "cell_type": "code",
   "execution_count": null,
   "id": "9c6b6f13",
   "metadata": {},
   "outputs": [],
   "source": [
    "\"\"\"Longest Unequal Adjacent Groups Subsequence I\n",
    "\n",
    "Hint\n",
    "You are given a string array words and a binary array groups both of length n, \n",
    "where words[i] is associated with groups[i].\n",
    "\n",
    "Your task is to select the longest alternating subsequence from words. \n",
    "A subsequence of words is alternating if for any two consecutive strings in the sequence, \n",
    "their corresponding elements in the binary array groups differ. \n",
    "Essentially, you are to choose strings such that adjacent elements have non-matching corresponding bits \n",
    "in the groups array.\n",
    "\n",
    "Formally, you need to find the longest subsequence of an array of indices [0, 1, ..., n - 1] \n",
    "denoted as [i0, i1, ..., ik-1], such that groups[ij] != groups[ij+1] for each 0 <= j < k - 1 \n",
    "and then find the words corresponding to these indices.Return the selected subsequence. \n",
    "If there are multiple answers, return any of them.\n",
    "\n",
    "Note: The elements in words are distinct.\n",
    "\n",
    "Example 1:\n",
    "\n",
    "Input: words = [\"e\",\"a\",\"b\"], groups = [0,0,1]\n",
    "\n",
    "Output: [\"e\",\"b\"]\n",
    "\n",
    "Explanation: A subsequence that can be selected is [\"e\",\"b\"] because groups[0] != groups[2]. Another subsequence that can be selected is [\"a\",\"b\"] because groups[1] != groups[2]. It can be demonstrated that the length of the longest subsequence of indices that satisfies the condition is 2.\n",
    "\n",
    "Example 2:\n",
    "\n",
    "Input: words = [\"a\",\"b\",\"c\",\"d\"], groups = [1,0,1,1]\n",
    "\n",
    "Output: [\"a\",\"b\",\"c\"]\n",
    "\n",
    "Explanation: A subsequence that can be selected is [\"a\",\"b\",\"c\"] because groups[0] != groups[1] and groups[1] != groups[2]. Another subsequence that can be selected is [\"a\",\"b\",\"d\"] because groups[0] != groups[1] and groups[1] != groups[3]. It can be shown that the length of the longest subsequence of indices that satisfies the condition is 3.\n",
    "\n",
    " \n",
    "\n",
    "Constraints:\n",
    "\n",
    "1 <= n == words.length == groups.length <= 100\n",
    "1 <= words[i].length <= 10\n",
    "groups[i] is either 0 or 1.\n",
    "words consists of distinct strings.\n",
    "words[i] consists of lowercase English letters.\"\"\""
   ]
  },
  {
   "cell_type": "code",
   "execution_count": 14,
   "id": "4e39bb0c",
   "metadata": {},
   "outputs": [
    {
     "name": "stdout",
     "output_type": "stream",
     "text": [
      "['e', 'b']\n",
      "['a', 'b', 'c']\n"
     ]
    }
   ],
   "source": [
    "def longestAlternatingSubsequence(words, groups):\n",
    "    \"\"\"\n",
    "    Given a string array words and a binary array groups, return the longest\n",
    "    alternating subsequence where adjacent elements have non-matching\n",
    "    corresponding bits in the groups array.\n",
    "    \"\"\"\n",
    "    \n",
    "    result = []  # List to store the selected words\n",
    "    previous_group = -1  # Initialize with an invalid group\n",
    "    \n",
    "    for i in range(len(words)):\n",
    "        # If the current group's value is different from the previous one, include it\n",
    "        if groups[i] != previous_group:\n",
    "            result.append(words[i])  # Add the word to the result\n",
    "            previous_group = groups[i]  # Update the previous group\n",
    "\n",
    "    return result\n",
    "\n",
    "# Example usage:\n",
    "words1 = [\"e\", \"a\", \"b\"]\n",
    "groups1 = [0, 0, 1]\n",
    "print(longestAlternatingSubsequence(words1, groups1))  # Output: [\"e\", \"b\"] or [\"a\", \"b\"]\n",
    "\n",
    "words2 = [\"a\", \"b\", \"c\", \"d\"]\n",
    "groups2 = [1, 0, 1, 1]\n",
    "print(longestAlternatingSubsequence(words2, groups2))  # Output: [\"a\", \"b\", \"c\"] or [\"a\", \"b\", \"d\"]\n"
   ]
  }
 ],
 "metadata": {
  "kernelspec": {
   "display_name": "Python 3 (ipykernel)",
   "language": "python",
   "name": "python3"
  },
  "language_info": {
   "codemirror_mode": {
    "name": "ipython",
    "version": 3
   },
   "file_extension": ".py",
   "mimetype": "text/x-python",
   "name": "python",
   "nbconvert_exporter": "python",
   "pygments_lexer": "ipython3",
   "version": "3.11.5"
  }
 },
 "nbformat": 4,
 "nbformat_minor": 5
}
